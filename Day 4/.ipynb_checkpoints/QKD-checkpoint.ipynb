{
 "cells": [
  {
   "cell_type": "markdown",
   "metadata": {},
   "source": [
    "# Quantum Key Distribution"
   ]
  },
  {
   "cell_type": "code",
   "execution_count": null,
   "metadata": {},
   "outputs": [],
   "source": [
    "import numpy as np\n",
    "import matplotlib.pyplot as plt\n",
    "from tqdm import tqdm_notebook as tqdm\n",
    "\n",
    "import random\n",
    "from qiskit import execute, Aer, IBMQ, QuantumCircuit\n",
    "from qiskit.tools.jupyter import *\n",
    "from qiskit.visualization import *\n",
    "\n",
    "from QKD_helpers import *"
   ]
  },
  {
   "cell_type": "code",
   "execution_count": null,
   "metadata": {},
   "outputs": [],
   "source": [
    "# Configuring account\n",
    "backend = Aer.get_backend('qasm_simulator')"
   ]
  },
  {
   "cell_type": "markdown",
   "metadata": {},
   "source": [
    "## Basics"
   ]
  },
  {
   "cell_type": "markdown",
   "metadata": {},
   "source": [
    "Make a single qubit circuit with the qubit in the $|0\\rangle$ state"
   ]
  },
  {
   "cell_type": "code",
   "execution_count": null,
   "metadata": {},
   "outputs": [],
   "source": [
    "qc = QuantumCircuit(1,1) # First index determines the number of qubits\n",
    "                         # Second index determines the number of classical bits (useful for measurement)\n",
    "qc.reset(0)\n",
    "qc.draw()"
   ]
  },
  {
   "cell_type": "markdown",
   "metadata": {},
   "source": [
    "Make a single qubit circuit that puts the qubit into the $|1\\rangle$ state"
   ]
  },
  {
   "cell_type": "code",
   "execution_count": null,
   "metadata": {},
   "outputs": [],
   "source": [
    "qc = QuantumCircuit(1,1)\n",
    "qc.reset(0)\n",
    "### ADD Code here\n",
    "qc.draw()"
   ]
  },
  {
   "cell_type": "markdown",
   "metadata": {},
   "source": [
    "Make a single qubit circuit that puts qubit into the $|+\\rangle$ state"
   ]
  },
  {
   "cell_type": "code",
   "execution_count": null,
   "metadata": {},
   "outputs": [],
   "source": [
    "qc = QuantumCircuit(1,1)\n",
    "qc.reset(0)\n",
    "### ADD Code here\n",
    "qc.draw()"
   ]
  },
  {
   "cell_type": "markdown",
   "metadata": {},
   "source": [
    "Make a single qubit circuit that puts qubit into the $|-\\rangle$ state"
   ]
  },
  {
   "cell_type": "code",
   "execution_count": null,
   "metadata": {},
   "outputs": [],
   "source": [
    "qc = QuantumCircuit(1,1)\n",
    "qc.reset(0)\n",
    "### ADD Code here\n",
    "qc.draw()"
   ]
  },
  {
   "cell_type": "markdown",
   "metadata": {},
   "source": [
    "Do a single measurement of a qubit put into the $|1\\rangle$ state"
   ]
  },
  {
   "cell_type": "code",
   "execution_count": null,
   "metadata": {},
   "outputs": [],
   "source": [
    "qc = QuantumCircuit(1,1)\n",
    "qc.x(0)\n",
    "qc.measure(0,0)\n",
    "print(qc)\n",
    "\n",
    "results = execute(qc, backend=backend, shots=1).result()\n",
    "print('measurement result: ',results.get_counts())"
   ]
  },
  {
   "cell_type": "markdown",
   "metadata": {},
   "source": [
    "## QKD"
   ]
  },
  {
   "cell_type": "markdown",
   "metadata": {},
   "source": [
    "### Alice"
   ]
  },
  {
   "cell_type": "code",
   "execution_count": null,
   "metadata": {},
   "outputs": [],
   "source": [
    "bitstring_length=500\n",
    "\n",
    "class Alice():\n",
    "    \n",
    "    def __init__(self):\n",
    "        self.prepared_bitstring=''\n",
    "        self.bases=''\n",
    "        self.key=''\n",
    "        \n",
    "    def send_qubits(self):\n",
    "        # Generate the bitsrting that Alice will encode\n",
    "        self.bitstring=str('{0:0100b}'.format(random.getrandbits(bitstring_length)))\n",
    "        \n",
    "        # Generate the basis that Alice uses to encode her bitstring. \n",
    "        # 0 means encode in the (0,1) basis and 1 means encode in the (+,-) basis\n",
    "        self.basis=str('{0:0100b}'.format(random.getrandbits(bitstring_length)))\n",
    "        \n",
    "        qubits=[]\n",
    "        # Hint: For every qubit make a seperate circuit, apply the proper gates and then append it to this list\n",
    "        \n",
    "        #\n",
    "        #\n",
    "        # Insert your code here\n",
    "        #\n",
    "        #\n",
    "        #\n",
    "        \n",
    "        return qubits\n",
    "    \n",
    "    def construct_key_from_indices(indices):\n",
    "        for idx in indices:\n",
    "            self.key+= self.prepared_bitstring[idx]"
   ]
  },
  {
   "cell_type": "markdown",
   "metadata": {},
   "source": [
    "### Bob"
   ]
  },
  {
   "cell_type": "code",
   "execution_count": null,
   "metadata": {},
   "outputs": [],
   "source": [
    "class Bob():\n",
    "    def __init__(self):\n",
    "        self.measured_bitstring=''\n",
    "        self.bases=''\n",
    "        self.key=''\n",
    "        \n",
    "    def measure_qubits(self,qubits):\n",
    "        # Generate the basis that Bob uses to measure the qubits. \n",
    "        # 0 means encode in the (0,1) basis and 1 means encode in the (+,-) basis\n",
    "        self.basis=str('{0:0100b}'.format(random.getrandbits(bitstring_length)))\n",
    "        \n",
    "        \n",
    "        #\n",
    "        #\n",
    "        # Insert your code here\n",
    "        #\n",
    "        #\n",
    "        #\n",
    "    def construct_key_from_indices(indices):\n",
    "        for idx in indices:\n",
    "            self.key+= self.measured_bitstring[idx]"
   ]
  },
  {
   "cell_type": "code",
   "execution_count": null,
   "metadata": {},
   "outputs": [],
   "source": [
    "def compare_and_make_key(alice, bob):\n",
    "    \n",
    "    indices=[]\n",
    "    for i in range(bitstring_length):\n",
    "        if alice.basis[i]==bob.basis[i]: indices.append(i)\n",
    "    \n",
    "    alice.construct_key_from_indices(indices)\n",
    "    bob.construct_key_from_indices(indices)"
   ]
  },
  {
   "cell_type": "markdown",
   "metadata": {},
   "source": [
    "### Key Distribution Protocol"
   ]
  },
  {
   "cell_type": "code",
   "execution_count": null,
   "metadata": {},
   "outputs": [],
   "source": [
    "# define Alice\n",
    "alice= Alice()\n",
    "# define Bob\n",
    "bob= Bob()\n",
    "\n",
    "# Alice prepares and sends her qubits to Bob\n",
    "sent_qubits = alice.send_qubits()\n",
    "\n",
    "# Bob measures the qubits\n",
    "bob.measure_qubits(sent_qubits)\n",
    "\n",
    "# Alice and Bob compare their basis and agree on a key\n",
    "compare_and_make_key(alice, bob)\n",
    "# Now we'll have set Alice's and Bob's keys"
   ]
  },
  {
   "cell_type": "markdown",
   "metadata": {},
   "source": [
    "### Secure communication"
   ]
  },
  {
   "cell_type": "code",
   "execution_count": null,
   "metadata": {},
   "outputs": [],
   "source": [
    "# Let's test their keys using a secret message\n",
    "# Load up the secret message (in bits)\n",
    "secret_message = generate_secret_key()\n",
    "\n",
    "# We have our XOR helper function:\n",
    "def binary_add(s,k):\n",
    "    return str( (int(s)+int(k))%2 )"
   ]
  },
  {
   "cell_type": "code",
   "execution_count": null,
   "metadata": {},
   "outputs": [],
   "source": [
    "# Alice encodes the secret message using her key\n",
    "encoded_message = ''\n",
    "for i in range(len(secret_message)):\n",
    "    encoded_message += #Fill in here"
   ]
  },
  {
   "cell_type": "code",
   "execution_count": null,
   "metadata": {},
   "outputs": [],
   "source": [
    "# Bob decodes the secret message using his key\n",
    "decoded_message = ''\n",
    "for i in range(len(encoded_message)):\n",
    "    decoded_message += #Fill in here"
   ]
  },
  {
   "cell_type": "code",
   "execution_count": null,
   "metadata": {},
   "outputs": [],
   "source": [
    "# Let's see what does the message that Bob got from Alice say: \n",
    "text_from_bits(decoded_message)"
   ]
  }
 ],
 "metadata": {
  "kernelspec": {
   "display_name": "Python 3",
   "language": "python",
   "name": "python3"
  },
  "language_info": {
   "codemirror_mode": {
    "name": "ipython",
    "version": 3
   },
   "file_extension": ".py",
   "mimetype": "text/x-python",
   "name": "python",
   "nbconvert_exporter": "python",
   "pygments_lexer": "ipython3",
   "version": "3.8.3"
  }
 },
 "nbformat": 4,
 "nbformat_minor": 4
}
