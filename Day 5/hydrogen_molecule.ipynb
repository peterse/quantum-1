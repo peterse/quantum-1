{
 "cells": [
  {
   "cell_type": "markdown",
   "metadata": {},
   "source": [
    "# Hydrogen Molecule Simulation"
   ]
  },
  {
   "cell_type": "code",
   "execution_count": null,
   "metadata": {},
   "outputs": [],
   "source": [
    "import numpy as np\n",
    "import matplotlib.pyplot as plt\n",
    "from tqdm import tqdm_notebook as tqdm\n",
    "\n",
    "from qiskit.aqua import QuantumInstance\n",
    "from qiskit.aqua.algorithms import ExactEigensolver, VQE\n",
    "from qiskit.aqua.components.variational_forms import RYRZ\n",
    "from qiskit.aqua.components.optimizers import SPSA, COBYLA\n",
    "from qiskit.providers.aer.noise import NoiseModel\n",
    "from qiskit import IBMQ, Aer\n",
    "\n",
    "from H2_helpers import *"
   ]
  },
  {
   "cell_type": "markdown",
   "metadata": {},
   "source": [
    "## Exact Theoretical Approach"
   ]
  },
  {
   "cell_type": "markdown",
   "metadata": {},
   "source": [
    "Here we find the exact bond energy of the H2 molecule at the bond length of 0.735 Angstroms or 7.35x10$^{-2}$ nm, where the molecule is most stable."
   ]
  },
  {
   "cell_type": "code",
   "execution_count": null,
   "metadata": {},
   "outputs": [],
   "source": [
    "bond_length= 0.735\n",
    "qubit_op, operator= get_H2_Hamiltonian(bond_length)\n",
    "result = NumPyMinimumEigensolver(qubit_op).run()\n",
    "exact_result = operator.process_algorithm_result(result)\n",
    "\n",
    "print('========= Ground State Energy =========')\n",
    "print('Total Energy (Hartree): {:.10f}'.format(exact_result.energy))\n",
    "print('Electronic Energy (Hartree): {:.10f}'.format(exact_result.electronic_energy))\n",
    "print('Nuclear Repulsion Energy (Hartree): {:.10f}'.format(exact_result.nuclear_repulsion_energy))"
   ]
  },
  {
   "cell_type": "markdown",
   "metadata": {},
   "source": [
    "Now lets find the bond energy of the H2 molecule at different bond lengths. Plot the total energy vs. bond length. Also compare how the electronic energy changes with how the nuclear repulsion energy changes with bond length"
   ]
  },
  {
   "cell_type": "code",
   "execution_count": null,
   "metadata": {},
   "outputs": [],
   "source": [
    "bond_lengths= sorted(list(np.arange(0.2, 4.1, 0.1))+[0.735])\n",
    "theory_energies=[]\n",
    "theory_electronic_energies=[]\n",
    "theory_nuclear_repulsion=[]\n",
    "\n"
   ]
  },
  {
   "cell_type": "markdown",
   "metadata": {},
   "source": [
    "## Variational Quantum Eigensolver (VQE) approach"
   ]
  },
  {
   "cell_type": "markdown",
   "metadata": {},
   "source": [
    "Let's use a hybrid quantum-classical algorithm to find the bond energy of H2."
   ]
  },
  {
   "cell_type": "markdown",
   "metadata": {},
   "source": [
    "### Noiseless"
   ]
  },
  {
   "cell_type": "markdown",
   "metadata": {},
   "source": [
    "Here, we use a variational quantum algorithm to find the energy of the H2 molecule at it's most stable bond length (0.735 A) using a noiseless quantum simulator.\n",
    "\n",
    "We start by using an RYRZ variational circuit: https://qiskit.org/documentation/stubs/qiskit.aqua.components.variational_forms.RYRZ.html\n",
    "with depth 5.\n",
    "\n",
    "We optimize our quantum circuit using a Simultaneous Perturbation Stochastic Approximation (SPSA) optimizer: https://qiskit.org/documentation/stubs/qiskit.aqua.components.optimizers.SPSA.html"
   ]
  },
  {
   "cell_type": "code",
   "execution_count": null,
   "metadata": {},
   "outputs": [],
   "source": [
    "bond_length= 0.735\n",
    "qubit_op, operator= get_H2_Hamiltonian(bond_length)\n",
    "\n",
    "var_form = RYRZ(qubit_op.num_qubits, depth=5, entanglement='full')\n",
    "optimizer = SPSA()\n",
    "simulator = Aer.get_backend('qasm_simulator')\n",
    "algo = VQE(qubit_op, var_form, optimizer)\n",
    "result = algo.run(QuantumInstance(simulator))\n",
    "\n",
    "result = operator.process_algorithm_result(result)\n",
    "print('========= Ground State Energy =========')\n",
    "print('Total Energy (Hartree): {:.10f}'.format(result.energy))\n",
    "print('Electronic Energy (Hartree): {:.10f}'.format(result.electronic_energy))\n",
    "print('Nuclear Repulsion Energy (Hartree): {:.10f}'.format(result.nuclear_repulsion_energy))"
   ]
  },
  {
   "cell_type": "markdown",
   "metadata": {},
   "source": [
    "Now let's explore what happens if we vary the variational circuit depth. Plot the output energy of VQE algorithm vs. circuit depth. Can you explain your observation? "
   ]
  },
  {
   "cell_type": "code",
   "execution_count": null,
   "metadata": {},
   "outputs": [],
   "source": [
    "circuit_depths=np.linspace(1,10,11)\n",
    "\n"
   ]
  },
  {
   "cell_type": "markdown",
   "metadata": {},
   "source": [
    "Next, find the energy of the H2 molecule for a few different bond lengths using VQE and plot them against the exact solutions computed earlier."
   ]
  },
  {
   "cell_type": "code",
   "execution_count": null,
   "metadata": {},
   "outputs": [],
   "source": [
    "ideal_vqe_energies= []\n",
    "vqe_bond_lengths= bond_lengths[::2]\n",
    "depth=1 #Change\n",
    "\n"
   ]
  },
  {
   "cell_type": "markdown",
   "metadata": {},
   "source": [
    "### Noisy simulation"
   ]
  },
  {
   "cell_type": "markdown",
   "metadata": {},
   "source": [
    "The quantum computers that we have access to today are noisy systems, and the noise could change the output of our quantum algorithm. In this section we will add a noise component to our quantum simulation. You can find more information about different noise models here: https://qiskit.org/documentation/apidoc/aer_noise.html"
   ]
  },
  {
   "cell_type": "code",
   "execution_count": null,
   "metadata": {},
   "outputs": [],
   "source": [
    "provider = IBMQ.load_account()\n",
    "backend = provider.get_backend('ibmq_vigo') #Here we chose the noise model that the ibmq_virgo device experiences\n",
    "noise_model = NoiseModel.from_backend(backend)"
   ]
  },
  {
   "cell_type": "code",
   "execution_count": null,
   "metadata": {},
   "outputs": [],
   "source": [
    "bond_length= 0.735\n",
    "qubit_op, operator= get_H2_Hamiltonian(bond_length)\n",
    "\n",
    "var_form = RYRZ(qubit_op.num_qubits, depth=3, entanglement='full')\n",
    "optimizer = SPSA()\n",
    "simulator = Aer.get_backend('qasm_simulator')\n",
    "algo = VQE(qubit_op, var_form, optimizer)\n",
    "result = algo.run(QuantumInstance(simulator), NoiseModel=noise_model) # We add the noise model here\n",
    "\n",
    "result = operator.process_algorithm_result(result)\n",
    "print('========= Ground State Energy =========')\n",
    "print('Total Energy (Hartree): {:.10f}'.format(result.energy))\n",
    "print('Electronic Energy (Hartree): {:.10f}'.format(result.electronic_energy))\n",
    "print('Nuclear Repulsion Energy (Hartree): {:.10f}'.format(result.nuclear_repulsion_energy))"
   ]
  },
  {
   "cell_type": "markdown",
   "metadata": {},
   "source": [
    "Now check how the quantum algorithm performance changes by varying the depth. Plot the calculated energy values when varying the algorithm depth and choose the best depth. Note that we need the energy to be accurate to 0.001 Hartree for a successful simulation. "
   ]
  },
  {
   "cell_type": "code",
   "execution_count": null,
   "metadata": {},
   "outputs": [],
   "source": [
    "depths=np.linspace(2,10,5)\n",
    "\n",
    "plt.fill_between(depths, exact_result.energy-0.001, exact_result.energy+0.001, color='green')\n",
    "plt.ylabel('Energy (Hartree)')\n",
    "plt.xlabel('Circuit depth')\n",
    "plt.show()"
   ]
  },
  {
   "cell_type": "markdown",
   "metadata": {},
   "source": [
    "Next, find the energy of the H2 molecule for a few different bond lengths using VQE with a noise model of a real quantum hardware and plot them against the exact solutions computed earlier."
   ]
  },
  {
   "cell_type": "code",
   "execution_count": null,
   "metadata": {},
   "outputs": [],
   "source": [
    "noisy_vqe_energies= []\n",
    "noisy_vqe_bond_lengths= vqe_bond_lengths[:12]\n",
    "depth=1 #Change\n",
    "\n"
   ]
  },
  {
   "cell_type": "markdown",
   "metadata": {},
   "source": [
    "### Quantum device"
   ]
  },
  {
   "cell_type": "code",
   "execution_count": null,
   "metadata": {},
   "outputs": [],
   "source": [
    "provider = IBMQ.load_account()\n",
    "backend = provider.get_backend('ibmq_london')\n",
    "noise_model = NoiseModel.from_backend(backend)"
   ]
  },
  {
   "cell_type": "markdown",
   "metadata": {},
   "source": [
    "First, let's train our circuit using a simulator"
   ]
  },
  {
   "cell_type": "code",
   "execution_count": null,
   "metadata": {},
   "outputs": [],
   "source": [
    "depth=1 #Change\n",
    "\n",
    "bond_length= 0.735\n",
    "qubit_op, operator= get_H2_Hamiltonian(bond_length)\n",
    "\n",
    "var_form = RYRZ(qubit_op.num_qubits, depth=depth, entanglement='full')\n",
    "optimizer = SPSA()\n",
    "simulator = Aer.get_backend('qasm_simulator')\n",
    "algo = VQE(qubit_op, var_form, optimizer)\n",
    "simulation_result = algo.run(QuantumInstance(simulator), NoiseModel=noise_model)"
   ]
  },
  {
   "cell_type": "markdown",
   "metadata": {},
   "source": [
    "Now, let's run the optimal circuit on an actual quantum computer!"
   ]
  },
  {
   "cell_type": "code",
   "execution_count": null,
   "metadata": {},
   "outputs": [],
   "source": [
    "optimal_point= simulation_result['optimal_point']\n",
    "algo = VQE(qubit_op, var_form, COBYLA(1),initial_point=optimal_point)\n",
    "hardware_result = algo.run(backend)#, shots=8192)\n",
    "hardware_result = operator.process_algorithm_result(hardware_result)\n",
    "\n",
    "print('========= Ground State Energy =========')\n",
    "print('Total Energy (Hartree): {:.10f}'.format(hardware_result.energy))\n",
    "print('Electronic Energy (Hartree): {:.10f}'.format(hardware_result.electronic_energy))\n",
    "print('Nuclear Repulsion Energy (Hartree): {:.10f}'.format(hardware_result.nuclear_repulsion_energy))"
   ]
  },
  {
   "cell_type": "code",
   "execution_count": null,
   "metadata": {},
   "outputs": [],
   "source": []
  }
 ],
 "metadata": {
  "kernelspec": {
   "display_name": "Python 3",
   "language": "python",
   "name": "python3"
  },
  "language_info": {
   "codemirror_mode": {
    "name": "ipython",
    "version": 3
   },
   "file_extension": ".py",
   "mimetype": "text/x-python",
   "name": "python",
   "nbconvert_exporter": "python",
   "pygments_lexer": "ipython3",
   "version": "3.7.7"
  }
 },
 "nbformat": 4,
 "nbformat_minor": 4
}
